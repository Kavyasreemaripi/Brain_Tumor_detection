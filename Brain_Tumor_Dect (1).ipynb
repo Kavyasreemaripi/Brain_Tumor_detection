{
  "nbformat": 4,
  "nbformat_minor": 0,
  "metadata": {
    "colab": {
      "provenance": [],
      "gpuType": "T4"
    },
    "kernelspec": {
      "name": "python3",
      "display_name": "Python 3"
    },
    "language_info": {
      "name": "python"
    },
    "accelerator": "GPU",
    "widgets": {
      "application/vnd.jupyter.widget-state+json": {
        "37f299f7cec646599eabaae21b568420": {
          "model_module": "@jupyter-widgets/controls",
          "model_name": "HBoxModel",
          "model_module_version": "1.5.0",
          "state": {
            "_dom_classes": [],
            "_model_module": "@jupyter-widgets/controls",
            "_model_module_version": "1.5.0",
            "_model_name": "HBoxModel",
            "_view_count": null,
            "_view_module": "@jupyter-widgets/controls",
            "_view_module_version": "1.5.0",
            "_view_name": "HBoxView",
            "box_style": "",
            "children": [
              "IPY_MODEL_201a1c4bcb5c4cafaf040ec76036b571",
              "IPY_MODEL_45a04f0b3b8c4cf98563256146718712",
              "IPY_MODEL_16fd662847984564ab6aced07d5a9aed"
            ],
            "layout": "IPY_MODEL_e9a240afde4343028b2511be8a22da2d"
          }
        },
        "201a1c4bcb5c4cafaf040ec76036b571": {
          "model_module": "@jupyter-widgets/controls",
          "model_name": "HTMLModel",
          "model_module_version": "1.5.0",
          "state": {
            "_dom_classes": [],
            "_model_module": "@jupyter-widgets/controls",
            "_model_module_version": "1.5.0",
            "_model_name": "HTMLModel",
            "_view_count": null,
            "_view_module": "@jupyter-widgets/controls",
            "_view_module_version": "1.5.0",
            "_view_name": "HTMLView",
            "description": "",
            "description_tooltip": null,
            "layout": "IPY_MODEL_6297069a720b4d3aa1b2930b61dd0a30",
            "placeholder": "​",
            "style": "IPY_MODEL_fe0319e9a71247228d872e0e2a3536ff",
            "value": "100%"
          }
        },
        "45a04f0b3b8c4cf98563256146718712": {
          "model_module": "@jupyter-widgets/controls",
          "model_name": "FloatProgressModel",
          "model_module_version": "1.5.0",
          "state": {
            "_dom_classes": [],
            "_model_module": "@jupyter-widgets/controls",
            "_model_module_version": "1.5.0",
            "_model_name": "FloatProgressModel",
            "_view_count": null,
            "_view_module": "@jupyter-widgets/controls",
            "_view_module_version": "1.5.0",
            "_view_name": "ProgressView",
            "bar_style": "success",
            "description": "",
            "description_tooltip": null,
            "layout": "IPY_MODEL_cce8c69132bc420fb056ff6062abb9f9",
            "max": 155,
            "min": 0,
            "orientation": "horizontal",
            "style": "IPY_MODEL_35f9e1a94a7d4e85bdabc3c547058106",
            "value": 155
          }
        },
        "16fd662847984564ab6aced07d5a9aed": {
          "model_module": "@jupyter-widgets/controls",
          "model_name": "HTMLModel",
          "model_module_version": "1.5.0",
          "state": {
            "_dom_classes": [],
            "_model_module": "@jupyter-widgets/controls",
            "_model_module_version": "1.5.0",
            "_model_name": "HTMLModel",
            "_view_count": null,
            "_view_module": "@jupyter-widgets/controls",
            "_view_module_version": "1.5.0",
            "_view_name": "HTMLView",
            "description": "",
            "description_tooltip": null,
            "layout": "IPY_MODEL_be730cf45a9141c89430b3d170ed3cba",
            "placeholder": "​",
            "style": "IPY_MODEL_d66569f270b345e99b20b521b0f801e7",
            "value": " 155/155 [00:00&lt;00:00, 506.86it/s]"
          }
        },
        "e9a240afde4343028b2511be8a22da2d": {
          "model_module": "@jupyter-widgets/base",
          "model_name": "LayoutModel",
          "model_module_version": "1.2.0",
          "state": {
            "_model_module": "@jupyter-widgets/base",
            "_model_module_version": "1.2.0",
            "_model_name": "LayoutModel",
            "_view_count": null,
            "_view_module": "@jupyter-widgets/base",
            "_view_module_version": "1.2.0",
            "_view_name": "LayoutView",
            "align_content": null,
            "align_items": null,
            "align_self": null,
            "border": null,
            "bottom": null,
            "display": null,
            "flex": null,
            "flex_flow": null,
            "grid_area": null,
            "grid_auto_columns": null,
            "grid_auto_flow": null,
            "grid_auto_rows": null,
            "grid_column": null,
            "grid_gap": null,
            "grid_row": null,
            "grid_template_areas": null,
            "grid_template_columns": null,
            "grid_template_rows": null,
            "height": null,
            "justify_content": null,
            "justify_items": null,
            "left": null,
            "margin": null,
            "max_height": null,
            "max_width": null,
            "min_height": null,
            "min_width": null,
            "object_fit": null,
            "object_position": null,
            "order": null,
            "overflow": null,
            "overflow_x": null,
            "overflow_y": null,
            "padding": null,
            "right": null,
            "top": null,
            "visibility": null,
            "width": null
          }
        },
        "6297069a720b4d3aa1b2930b61dd0a30": {
          "model_module": "@jupyter-widgets/base",
          "model_name": "LayoutModel",
          "model_module_version": "1.2.0",
          "state": {
            "_model_module": "@jupyter-widgets/base",
            "_model_module_version": "1.2.0",
            "_model_name": "LayoutModel",
            "_view_count": null,
            "_view_module": "@jupyter-widgets/base",
            "_view_module_version": "1.2.0",
            "_view_name": "LayoutView",
            "align_content": null,
            "align_items": null,
            "align_self": null,
            "border": null,
            "bottom": null,
            "display": null,
            "flex": null,
            "flex_flow": null,
            "grid_area": null,
            "grid_auto_columns": null,
            "grid_auto_flow": null,
            "grid_auto_rows": null,
            "grid_column": null,
            "grid_gap": null,
            "grid_row": null,
            "grid_template_areas": null,
            "grid_template_columns": null,
            "grid_template_rows": null,
            "height": null,
            "justify_content": null,
            "justify_items": null,
            "left": null,
            "margin": null,
            "max_height": null,
            "max_width": null,
            "min_height": null,
            "min_width": null,
            "object_fit": null,
            "object_position": null,
            "order": null,
            "overflow": null,
            "overflow_x": null,
            "overflow_y": null,
            "padding": null,
            "right": null,
            "top": null,
            "visibility": null,
            "width": null
          }
        },
        "fe0319e9a71247228d872e0e2a3536ff": {
          "model_module": "@jupyter-widgets/controls",
          "model_name": "DescriptionStyleModel",
          "model_module_version": "1.5.0",
          "state": {
            "_model_module": "@jupyter-widgets/controls",
            "_model_module_version": "1.5.0",
            "_model_name": "DescriptionStyleModel",
            "_view_count": null,
            "_view_module": "@jupyter-widgets/base",
            "_view_module_version": "1.2.0",
            "_view_name": "StyleView",
            "description_width": ""
          }
        },
        "cce8c69132bc420fb056ff6062abb9f9": {
          "model_module": "@jupyter-widgets/base",
          "model_name": "LayoutModel",
          "model_module_version": "1.2.0",
          "state": {
            "_model_module": "@jupyter-widgets/base",
            "_model_module_version": "1.2.0",
            "_model_name": "LayoutModel",
            "_view_count": null,
            "_view_module": "@jupyter-widgets/base",
            "_view_module_version": "1.2.0",
            "_view_name": "LayoutView",
            "align_content": null,
            "align_items": null,
            "align_self": null,
            "border": null,
            "bottom": null,
            "display": null,
            "flex": null,
            "flex_flow": null,
            "grid_area": null,
            "grid_auto_columns": null,
            "grid_auto_flow": null,
            "grid_auto_rows": null,
            "grid_column": null,
            "grid_gap": null,
            "grid_row": null,
            "grid_template_areas": null,
            "grid_template_columns": null,
            "grid_template_rows": null,
            "height": null,
            "justify_content": null,
            "justify_items": null,
            "left": null,
            "margin": null,
            "max_height": null,
            "max_width": null,
            "min_height": null,
            "min_width": null,
            "object_fit": null,
            "object_position": null,
            "order": null,
            "overflow": null,
            "overflow_x": null,
            "overflow_y": null,
            "padding": null,
            "right": null,
            "top": null,
            "visibility": null,
            "width": null
          }
        },
        "35f9e1a94a7d4e85bdabc3c547058106": {
          "model_module": "@jupyter-widgets/controls",
          "model_name": "ProgressStyleModel",
          "model_module_version": "1.5.0",
          "state": {
            "_model_module": "@jupyter-widgets/controls",
            "_model_module_version": "1.5.0",
            "_model_name": "ProgressStyleModel",
            "_view_count": null,
            "_view_module": "@jupyter-widgets/base",
            "_view_module_version": "1.2.0",
            "_view_name": "StyleView",
            "bar_color": null,
            "description_width": ""
          }
        },
        "be730cf45a9141c89430b3d170ed3cba": {
          "model_module": "@jupyter-widgets/base",
          "model_name": "LayoutModel",
          "model_module_version": "1.2.0",
          "state": {
            "_model_module": "@jupyter-widgets/base",
            "_model_module_version": "1.2.0",
            "_model_name": "LayoutModel",
            "_view_count": null,
            "_view_module": "@jupyter-widgets/base",
            "_view_module_version": "1.2.0",
            "_view_name": "LayoutView",
            "align_content": null,
            "align_items": null,
            "align_self": null,
            "border": null,
            "bottom": null,
            "display": null,
            "flex": null,
            "flex_flow": null,
            "grid_area": null,
            "grid_auto_columns": null,
            "grid_auto_flow": null,
            "grid_auto_rows": null,
            "grid_column": null,
            "grid_gap": null,
            "grid_row": null,
            "grid_template_areas": null,
            "grid_template_columns": null,
            "grid_template_rows": null,
            "height": null,
            "justify_content": null,
            "justify_items": null,
            "left": null,
            "margin": null,
            "max_height": null,
            "max_width": null,
            "min_height": null,
            "min_width": null,
            "object_fit": null,
            "object_position": null,
            "order": null,
            "overflow": null,
            "overflow_x": null,
            "overflow_y": null,
            "padding": null,
            "right": null,
            "top": null,
            "visibility": null,
            "width": null
          }
        },
        "d66569f270b345e99b20b521b0f801e7": {
          "model_module": "@jupyter-widgets/controls",
          "model_name": "DescriptionStyleModel",
          "model_module_version": "1.5.0",
          "state": {
            "_model_module": "@jupyter-widgets/controls",
            "_model_module_version": "1.5.0",
            "_model_name": "DescriptionStyleModel",
            "_view_count": null,
            "_view_module": "@jupyter-widgets/base",
            "_view_module_version": "1.2.0",
            "_view_name": "StyleView",
            "description_width": ""
          }
        },
        "ade1e3c1cc9a438b99bda518ba718c94": {
          "model_module": "@jupyter-widgets/controls",
          "model_name": "HBoxModel",
          "model_module_version": "1.5.0",
          "state": {
            "_dom_classes": [],
            "_model_module": "@jupyter-widgets/controls",
            "_model_module_version": "1.5.0",
            "_model_name": "HBoxModel",
            "_view_count": null,
            "_view_module": "@jupyter-widgets/controls",
            "_view_module_version": "1.5.0",
            "_view_name": "HBoxView",
            "box_style": "",
            "children": [
              "IPY_MODEL_52d0a8bf73034dd1824a088c75370492",
              "IPY_MODEL_6d4e9b7ccf3b4e9794c2df982666ec2d",
              "IPY_MODEL_5c303ee7d1344e37be4be57b22659fc1"
            ],
            "layout": "IPY_MODEL_68aea642bb7a4ed2b298a7e0200884d7"
          }
        },
        "52d0a8bf73034dd1824a088c75370492": {
          "model_module": "@jupyter-widgets/controls",
          "model_name": "HTMLModel",
          "model_module_version": "1.5.0",
          "state": {
            "_dom_classes": [],
            "_model_module": "@jupyter-widgets/controls",
            "_model_module_version": "1.5.0",
            "_model_name": "HTMLModel",
            "_view_count": null,
            "_view_module": "@jupyter-widgets/controls",
            "_view_module_version": "1.5.0",
            "_view_name": "HTMLView",
            "description": "",
            "description_tooltip": null,
            "layout": "IPY_MODEL_5d1247773bc74abe8a98fb953306ce06",
            "placeholder": "​",
            "style": "IPY_MODEL_5fd1aa20518141ea864db5d4d51eeded",
            "value": "100%"
          }
        },
        "6d4e9b7ccf3b4e9794c2df982666ec2d": {
          "model_module": "@jupyter-widgets/controls",
          "model_name": "FloatProgressModel",
          "model_module_version": "1.5.0",
          "state": {
            "_dom_classes": [],
            "_model_module": "@jupyter-widgets/controls",
            "_model_module_version": "1.5.0",
            "_model_name": "FloatProgressModel",
            "_view_count": null,
            "_view_module": "@jupyter-widgets/controls",
            "_view_module_version": "1.5.0",
            "_view_name": "ProgressView",
            "bar_style": "success",
            "description": "",
            "description_tooltip": null,
            "layout": "IPY_MODEL_f6a0d6c463124ef89c6eb42be1931f73",
            "max": 98,
            "min": 0,
            "orientation": "horizontal",
            "style": "IPY_MODEL_d57f323eac464ad9b545ae0a58848b45",
            "value": 98
          }
        },
        "5c303ee7d1344e37be4be57b22659fc1": {
          "model_module": "@jupyter-widgets/controls",
          "model_name": "HTMLModel",
          "model_module_version": "1.5.0",
          "state": {
            "_dom_classes": [],
            "_model_module": "@jupyter-widgets/controls",
            "_model_module_version": "1.5.0",
            "_model_name": "HTMLModel",
            "_view_count": null,
            "_view_module": "@jupyter-widgets/controls",
            "_view_module_version": "1.5.0",
            "_view_name": "HTMLView",
            "description": "",
            "description_tooltip": null,
            "layout": "IPY_MODEL_4732c0b933784e07b5dee66928c85de7",
            "placeholder": "​",
            "style": "IPY_MODEL_b1d537c47e804b3a992d1400ffae0dbd",
            "value": " 98/98 [00:00&lt;00:00, 646.73it/s]"
          }
        },
        "68aea642bb7a4ed2b298a7e0200884d7": {
          "model_module": "@jupyter-widgets/base",
          "model_name": "LayoutModel",
          "model_module_version": "1.2.0",
          "state": {
            "_model_module": "@jupyter-widgets/base",
            "_model_module_version": "1.2.0",
            "_model_name": "LayoutModel",
            "_view_count": null,
            "_view_module": "@jupyter-widgets/base",
            "_view_module_version": "1.2.0",
            "_view_name": "LayoutView",
            "align_content": null,
            "align_items": null,
            "align_self": null,
            "border": null,
            "bottom": null,
            "display": null,
            "flex": null,
            "flex_flow": null,
            "grid_area": null,
            "grid_auto_columns": null,
            "grid_auto_flow": null,
            "grid_auto_rows": null,
            "grid_column": null,
            "grid_gap": null,
            "grid_row": null,
            "grid_template_areas": null,
            "grid_template_columns": null,
            "grid_template_rows": null,
            "height": null,
            "justify_content": null,
            "justify_items": null,
            "left": null,
            "margin": null,
            "max_height": null,
            "max_width": null,
            "min_height": null,
            "min_width": null,
            "object_fit": null,
            "object_position": null,
            "order": null,
            "overflow": null,
            "overflow_x": null,
            "overflow_y": null,
            "padding": null,
            "right": null,
            "top": null,
            "visibility": null,
            "width": null
          }
        },
        "5d1247773bc74abe8a98fb953306ce06": {
          "model_module": "@jupyter-widgets/base",
          "model_name": "LayoutModel",
          "model_module_version": "1.2.0",
          "state": {
            "_model_module": "@jupyter-widgets/base",
            "_model_module_version": "1.2.0",
            "_model_name": "LayoutModel",
            "_view_count": null,
            "_view_module": "@jupyter-widgets/base",
            "_view_module_version": "1.2.0",
            "_view_name": "LayoutView",
            "align_content": null,
            "align_items": null,
            "align_self": null,
            "border": null,
            "bottom": null,
            "display": null,
            "flex": null,
            "flex_flow": null,
            "grid_area": null,
            "grid_auto_columns": null,
            "grid_auto_flow": null,
            "grid_auto_rows": null,
            "grid_column": null,
            "grid_gap": null,
            "grid_row": null,
            "grid_template_areas": null,
            "grid_template_columns": null,
            "grid_template_rows": null,
            "height": null,
            "justify_content": null,
            "justify_items": null,
            "left": null,
            "margin": null,
            "max_height": null,
            "max_width": null,
            "min_height": null,
            "min_width": null,
            "object_fit": null,
            "object_position": null,
            "order": null,
            "overflow": null,
            "overflow_x": null,
            "overflow_y": null,
            "padding": null,
            "right": null,
            "top": null,
            "visibility": null,
            "width": null
          }
        },
        "5fd1aa20518141ea864db5d4d51eeded": {
          "model_module": "@jupyter-widgets/controls",
          "model_name": "DescriptionStyleModel",
          "model_module_version": "1.5.0",
          "state": {
            "_model_module": "@jupyter-widgets/controls",
            "_model_module_version": "1.5.0",
            "_model_name": "DescriptionStyleModel",
            "_view_count": null,
            "_view_module": "@jupyter-widgets/base",
            "_view_module_version": "1.2.0",
            "_view_name": "StyleView",
            "description_width": ""
          }
        },
        "f6a0d6c463124ef89c6eb42be1931f73": {
          "model_module": "@jupyter-widgets/base",
          "model_name": "LayoutModel",
          "model_module_version": "1.2.0",
          "state": {
            "_model_module": "@jupyter-widgets/base",
            "_model_module_version": "1.2.0",
            "_model_name": "LayoutModel",
            "_view_count": null,
            "_view_module": "@jupyter-widgets/base",
            "_view_module_version": "1.2.0",
            "_view_name": "LayoutView",
            "align_content": null,
            "align_items": null,
            "align_self": null,
            "border": null,
            "bottom": null,
            "display": null,
            "flex": null,
            "flex_flow": null,
            "grid_area": null,
            "grid_auto_columns": null,
            "grid_auto_flow": null,
            "grid_auto_rows": null,
            "grid_column": null,
            "grid_gap": null,
            "grid_row": null,
            "grid_template_areas": null,
            "grid_template_columns": null,
            "grid_template_rows": null,
            "height": null,
            "justify_content": null,
            "justify_items": null,
            "left": null,
            "margin": null,
            "max_height": null,
            "max_width": null,
            "min_height": null,
            "min_width": null,
            "object_fit": null,
            "object_position": null,
            "order": null,
            "overflow": null,
            "overflow_x": null,
            "overflow_y": null,
            "padding": null,
            "right": null,
            "top": null,
            "visibility": null,
            "width": null
          }
        },
        "d57f323eac464ad9b545ae0a58848b45": {
          "model_module": "@jupyter-widgets/controls",
          "model_name": "ProgressStyleModel",
          "model_module_version": "1.5.0",
          "state": {
            "_model_module": "@jupyter-widgets/controls",
            "_model_module_version": "1.5.0",
            "_model_name": "ProgressStyleModel",
            "_view_count": null,
            "_view_module": "@jupyter-widgets/base",
            "_view_module_version": "1.2.0",
            "_view_name": "StyleView",
            "bar_color": null,
            "description_width": ""
          }
        },
        "4732c0b933784e07b5dee66928c85de7": {
          "model_module": "@jupyter-widgets/base",
          "model_name": "LayoutModel",
          "model_module_version": "1.2.0",
          "state": {
            "_model_module": "@jupyter-widgets/base",
            "_model_module_version": "1.2.0",
            "_model_name": "LayoutModel",
            "_view_count": null,
            "_view_module": "@jupyter-widgets/base",
            "_view_module_version": "1.2.0",
            "_view_name": "LayoutView",
            "align_content": null,
            "align_items": null,
            "align_self": null,
            "border": null,
            "bottom": null,
            "display": null,
            "flex": null,
            "flex_flow": null,
            "grid_area": null,
            "grid_auto_columns": null,
            "grid_auto_flow": null,
            "grid_auto_rows": null,
            "grid_column": null,
            "grid_gap": null,
            "grid_row": null,
            "grid_template_areas": null,
            "grid_template_columns": null,
            "grid_template_rows": null,
            "height": null,
            "justify_content": null,
            "justify_items": null,
            "left": null,
            "margin": null,
            "max_height": null,
            "max_width": null,
            "min_height": null,
            "min_width": null,
            "object_fit": null,
            "object_position": null,
            "order": null,
            "overflow": null,
            "overflow_x": null,
            "overflow_y": null,
            "padding": null,
            "right": null,
            "top": null,
            "visibility": null,
            "width": null
          }
        },
        "b1d537c47e804b3a992d1400ffae0dbd": {
          "model_module": "@jupyter-widgets/controls",
          "model_name": "DescriptionStyleModel",
          "model_module_version": "1.5.0",
          "state": {
            "_model_module": "@jupyter-widgets/controls",
            "_model_module_version": "1.5.0",
            "_model_name": "DescriptionStyleModel",
            "_view_count": null,
            "_view_module": "@jupyter-widgets/base",
            "_view_module_version": "1.2.0",
            "_view_name": "StyleView",
            "description_width": ""
          }
        }
      }
    }
  },
  "cells": [
    {
      "cell_type": "markdown",
      "source": [
        "**What is Brain Tumor?**\n",
        "\n",
        "A brain tumor occurs when abnormal cells form within the brain. There are two main types of tumors: cancerous (malignant) tumors and benign tumors. Cancerous tumors can be divided into primary tumors, which start within the brain, and secondary tumors, which have spread from elsewhere, known as brain metastasis tumors. All types of brain tumors may produce symptoms that vary depending on the part of the brain involved. These symptoms may include headaches, seizures, problems with vision, vomiting and mental changes. The headache is classically worse in the morning and goes away with vomiting. Other symptoms may include difficulty walking, speaking or with sensations. As the disease progresses, unconsciousness may occur.\n",
        "\n",
        "\n",
        "![Hirnmetastase_MRT-T1_KM.jpg](data:image/jpeg;base64,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)\n",
        "\n",
        "Brain metastasis in the right cerebral hemisphere from lung cancer, shown on magnetic resonance imaging."
      ],
      "metadata": {
        "id": "NMH7zqOeVJ38"
      }
    },
    {
      "cell_type": "code",
      "execution_count": null,
      "metadata": {
        "colab": {
          "base_uri": "https://localhost:8080/",
          "height": 90
        },
        "id": "R7OjPm6pC7EO",
        "outputId": "d8dc19c4-894d-4d04-b822-11699ace4caa"
      },
      "outputs": [
        {
          "output_type": "display_data",
          "data": {
            "text/plain": [
              "<IPython.core.display.HTML object>"
            ],
            "text/html": [
              "\n",
              "     <input type=\"file\" id=\"files-a3b2a299-99a5-4a81-b8d6-ff01fec0fb0d\" name=\"files[]\" multiple disabled\n",
              "        style=\"border:none\" />\n",
              "     <output id=\"result-a3b2a299-99a5-4a81-b8d6-ff01fec0fb0d\">\n",
              "      Upload widget is only available when the cell has been executed in the\n",
              "      current browser session. Please rerun this cell to enable.\n",
              "      </output>\n",
              "      <script>// Copyright 2017 Google LLC\n",
              "//\n",
              "// Licensed under the Apache License, Version 2.0 (the \"License\");\n",
              "// you may not use this file except in compliance with the License.\n",
              "// You may obtain a copy of the License at\n",
              "//\n",
              "//      http://www.apache.org/licenses/LICENSE-2.0\n",
              "//\n",
              "// Unless required by applicable law or agreed to in writing, software\n",
              "// distributed under the License is distributed on an \"AS IS\" BASIS,\n",
              "// WITHOUT WARRANTIES OR CONDITIONS OF ANY KIND, either express or implied.\n",
              "// See the License for the specific language governing permissions and\n",
              "// limitations under the License.\n",
              "\n",
              "/**\n",
              " * @fileoverview Helpers for google.colab Python module.\n",
              " */\n",
              "(function(scope) {\n",
              "function span(text, styleAttributes = {}) {\n",
              "  const element = document.createElement('span');\n",
              "  element.textContent = text;\n",
              "  for (const key of Object.keys(styleAttributes)) {\n",
              "    element.style[key] = styleAttributes[key];\n",
              "  }\n",
              "  return element;\n",
              "}\n",
              "\n",
              "// Max number of bytes which will be uploaded at a time.\n",
              "const MAX_PAYLOAD_SIZE = 100 * 1024;\n",
              "\n",
              "function _uploadFiles(inputId, outputId) {\n",
              "  const steps = uploadFilesStep(inputId, outputId);\n",
              "  const outputElement = document.getElementById(outputId);\n",
              "  // Cache steps on the outputElement to make it available for the next call\n",
              "  // to uploadFilesContinue from Python.\n",
              "  outputElement.steps = steps;\n",
              "\n",
              "  return _uploadFilesContinue(outputId);\n",
              "}\n",
              "\n",
              "// This is roughly an async generator (not supported in the browser yet),\n",
              "// where there are multiple asynchronous steps and the Python side is going\n",
              "// to poll for completion of each step.\n",
              "// This uses a Promise to block the python side on completion of each step,\n",
              "// then passes the result of the previous step as the input to the next step.\n",
              "function _uploadFilesContinue(outputId) {\n",
              "  const outputElement = document.getElementById(outputId);\n",
              "  const steps = outputElement.steps;\n",
              "\n",
              "  const next = steps.next(outputElement.lastPromiseValue);\n",
              "  return Promise.resolve(next.value.promise).then((value) => {\n",
              "    // Cache the last promise value to make it available to the next\n",
              "    // step of the generator.\n",
              "    outputElement.lastPromiseValue = value;\n",
              "    return next.value.response;\n",
              "  });\n",
              "}\n",
              "\n",
              "/**\n",
              " * Generator function which is called between each async step of the upload\n",
              " * process.\n",
              " * @param {string} inputId Element ID of the input file picker element.\n",
              " * @param {string} outputId Element ID of the output display.\n",
              " * @return {!Iterable<!Object>} Iterable of next steps.\n",
              " */\n",
              "function* uploadFilesStep(inputId, outputId) {\n",
              "  const inputElement = document.getElementById(inputId);\n",
              "  inputElement.disabled = false;\n",
              "\n",
              "  const outputElement = document.getElementById(outputId);\n",
              "  outputElement.innerHTML = '';\n",
              "\n",
              "  const pickedPromise = new Promise((resolve) => {\n",
              "    inputElement.addEventListener('change', (e) => {\n",
              "      resolve(e.target.files);\n",
              "    });\n",
              "  });\n",
              "\n",
              "  const cancel = document.createElement('button');\n",
              "  inputElement.parentElement.appendChild(cancel);\n",
              "  cancel.textContent = 'Cancel upload';\n",
              "  const cancelPromise = new Promise((resolve) => {\n",
              "    cancel.onclick = () => {\n",
              "      resolve(null);\n",
              "    };\n",
              "  });\n",
              "\n",
              "  // Wait for the user to pick the files.\n",
              "  const files = yield {\n",
              "    promise: Promise.race([pickedPromise, cancelPromise]),\n",
              "    response: {\n",
              "      action: 'starting',\n",
              "    }\n",
              "  };\n",
              "\n",
              "  cancel.remove();\n",
              "\n",
              "  // Disable the input element since further picks are not allowed.\n",
              "  inputElement.disabled = true;\n",
              "\n",
              "  if (!files) {\n",
              "    return {\n",
              "      response: {\n",
              "        action: 'complete',\n",
              "      }\n",
              "    };\n",
              "  }\n",
              "\n",
              "  for (const file of files) {\n",
              "    const li = document.createElement('li');\n",
              "    li.append(span(file.name, {fontWeight: 'bold'}));\n",
              "    li.append(span(\n",
              "        `(${file.type || 'n/a'}) - ${file.size} bytes, ` +\n",
              "        `last modified: ${\n",
              "            file.lastModifiedDate ? file.lastModifiedDate.toLocaleDateString() :\n",
              "                                    'n/a'} - `));\n",
              "    const percent = span('0% done');\n",
              "    li.appendChild(percent);\n",
              "\n",
              "    outputElement.appendChild(li);\n",
              "\n",
              "    const fileDataPromise = new Promise((resolve) => {\n",
              "      const reader = new FileReader();\n",
              "      reader.onload = (e) => {\n",
              "        resolve(e.target.result);\n",
              "      };\n",
              "      reader.readAsArrayBuffer(file);\n",
              "    });\n",
              "    // Wait for the data to be ready.\n",
              "    let fileData = yield {\n",
              "      promise: fileDataPromise,\n",
              "      response: {\n",
              "        action: 'continue',\n",
              "      }\n",
              "    };\n",
              "\n",
              "    // Use a chunked sending to avoid message size limits. See b/62115660.\n",
              "    let position = 0;\n",
              "    do {\n",
              "      const length = Math.min(fileData.byteLength - position, MAX_PAYLOAD_SIZE);\n",
              "      const chunk = new Uint8Array(fileData, position, length);\n",
              "      position += length;\n",
              "\n",
              "      const base64 = btoa(String.fromCharCode.apply(null, chunk));\n",
              "      yield {\n",
              "        response: {\n",
              "          action: 'append',\n",
              "          file: file.name,\n",
              "          data: base64,\n",
              "        },\n",
              "      };\n",
              "\n",
              "      let percentDone = fileData.byteLength === 0 ?\n",
              "          100 :\n",
              "          Math.round((position / fileData.byteLength) * 100);\n",
              "      percent.textContent = `${percentDone}% done`;\n",
              "\n",
              "    } while (position < fileData.byteLength);\n",
              "  }\n",
              "\n",
              "  // All done.\n",
              "  yield {\n",
              "    response: {\n",
              "      action: 'complete',\n",
              "    }\n",
              "  };\n",
              "}\n",
              "\n",
              "scope.google = scope.google || {};\n",
              "scope.google.colab = scope.google.colab || {};\n",
              "scope.google.colab._files = {\n",
              "  _uploadFiles,\n",
              "  _uploadFilesContinue,\n",
              "};\n",
              "})(self);\n",
              "</script> "
            ]
          },
          "metadata": {}
        },
        {
          "output_type": "stream",
          "name": "stdout",
          "text": [
            "Saving kaggle.json to kaggle.json\n",
            "User uploaded file \"kaggle.json\" with length 71 bytes\n"
          ]
        }
      ],
      "source": [
        "from google.colab import files\n",
        "\n",
        "uploaded = files.upload()\n",
        "\n",
        "for fn in uploaded.keys():\n",
        "  print('User uploaded file \"{name}\" with length {length} bytes'.format(\n",
        "      name=fn, length=len(uploaded[fn])))\n",
        "\n",
        "# Then move kaggle.json into the folder where the API expects to find it.\n",
        "!mkdir -p ~/.kaggle/ && mv kaggle.json ~/.kaggle/ && chmod 600 ~/.kaggle/kaggle.json\n"
      ]
    },
    {
      "cell_type": "code",
      "source": [
        "!kaggle datasets download -d navoneel/brain-mri-images-for-brain-tumor-detection"
      ],
      "metadata": {
        "colab": {
          "base_uri": "https://localhost:8080/"
        },
        "id": "lrKFrvTGDzGc",
        "outputId": "24c3b45d-bd6b-4ab4-f524-7c37c696d0e3"
      },
      "execution_count": null,
      "outputs": [
        {
          "output_type": "stream",
          "name": "stdout",
          "text": [
            "Dataset URL: https://www.kaggle.com/datasets/navoneel/brain-mri-images-for-brain-tumor-detection\n",
            "License(s): copyright-authors\n",
            "Downloading brain-mri-images-for-brain-tumor-detection.zip to /content\n",
            " 86% 13.0M/15.1M [00:01<00:00, 14.5MB/s]\n",
            "100% 15.1M/15.1M [00:01<00:00, 8.84MB/s]\n"
          ]
        }
      ]
    },
    {
      "cell_type": "code",
      "source": [
        "import tensorflow as tf\n",
        "from zipfile import ZipFile\n",
        "import os,glob\n",
        "import cv2\n",
        "from tqdm._tqdm_notebook import tqdm_notebook as tqdm\n",
        "import numpy as np\n",
        "from sklearn import preprocessing\n",
        "from sklearn.model_selection import train_test_split\n",
        "from keras.models import Sequential\n",
        "from keras.layers import Convolution2D, Dropout, Dense,MaxPooling2D\n",
        "from keras.layers import BatchNormalization\n",
        "from keras.layers import MaxPooling2D\n",
        "from keras.layers import Flatten"
      ],
      "metadata": {
        "colab": {
          "base_uri": "https://localhost:8080/"
        },
        "id": "SaAmYc8IE_A7",
        "outputId": "165293ba-3e18-429b-b4df-398572b8a6a0"
      },
      "execution_count": null,
      "outputs": [
        {
          "output_type": "stream",
          "name": "stderr",
          "text": [
            "<ipython-input-4-4addd0ae159c>:5: TqdmDeprecationWarning: This function will be removed in tqdm==5.0.0\n",
            "Please use `tqdm.notebook.*` instead of `tqdm._tqdm_notebook.*`\n",
            "  from tqdm._tqdm_notebook import tqdm_notebook as tqdm\n"
          ]
        }
      ]
    },
    {
      "cell_type": "code",
      "source": [
        "from zipfile import ZipFile\n",
        "file_name = \"/content/brain-mri-images-for-brain-tumor-detection.zip\"\n",
        "with ZipFile(file_name,'r') as zip:\n",
        "  zip.extractall()\n",
        "  print('Done')"
      ],
      "metadata": {
        "colab": {
          "base_uri": "https://localhost:8080/"
        },
        "id": "tTDfZEIVFhlQ",
        "outputId": "ca0e4cc5-52e6-474a-a50c-2787d83df4d6"
      },
      "execution_count": null,
      "outputs": [
        {
          "output_type": "stream",
          "name": "stdout",
          "text": [
            "Done\n"
          ]
        }
      ]
    },
    {
      "cell_type": "code",
      "source": [
        "os.chdir('/content/yes')\n",
        "X = []\n",
        "y = []\n",
        "for i in tqdm(os.listdir()):\n",
        "      img = cv2.imread(i)\n",
        "      img = cv2.resize(img,(224,224))\n",
        "      X.append(img)\n",
        "      y.append((i[0:1]))\n",
        "      print(i[0:1])\n",
        "os.chdir('/content/no')\n",
        "for i in tqdm(os.listdir()):\n",
        "      img = cv2.imread(i)\n",
        "      img = cv2.resize(img,(224,224))\n",
        "      X.append(img)\n",
        "for i in range(1,99):\n",
        "    y.append('N')\n",
        "print(y)"
      ],
      "metadata": {
        "colab": {
          "base_uri": "https://localhost:8080/",
          "height": 1000,
          "referenced_widgets": [
            "37f299f7cec646599eabaae21b568420",
            "201a1c4bcb5c4cafaf040ec76036b571",
            "45a04f0b3b8c4cf98563256146718712",
            "16fd662847984564ab6aced07d5a9aed",
            "e9a240afde4343028b2511be8a22da2d",
            "6297069a720b4d3aa1b2930b61dd0a30",
            "fe0319e9a71247228d872e0e2a3536ff",
            "cce8c69132bc420fb056ff6062abb9f9",
            "35f9e1a94a7d4e85bdabc3c547058106",
            "be730cf45a9141c89430b3d170ed3cba",
            "d66569f270b345e99b20b521b0f801e7",
            "ade1e3c1cc9a438b99bda518ba718c94",
            "52d0a8bf73034dd1824a088c75370492",
            "6d4e9b7ccf3b4e9794c2df982666ec2d",
            "5c303ee7d1344e37be4be57b22659fc1",
            "68aea642bb7a4ed2b298a7e0200884d7",
            "5d1247773bc74abe8a98fb953306ce06",
            "5fd1aa20518141ea864db5d4d51eeded",
            "f6a0d6c463124ef89c6eb42be1931f73",
            "d57f323eac464ad9b545ae0a58848b45",
            "4732c0b933784e07b5dee66928c85de7",
            "b1d537c47e804b3a992d1400ffae0dbd"
          ]
        },
        "id": "7s3AFNmyFxua",
        "outputId": "b68851a0-9686-46df-aa4c-b010044577c2"
      },
      "execution_count": null,
      "outputs": [
        {
          "output_type": "display_data",
          "data": {
            "text/plain": [
              "  0%|          | 0/155 [00:00<?, ?it/s]"
            ],
            "application/vnd.jupyter.widget-view+json": {
              "version_major": 2,
              "version_minor": 0,
              "model_id": "37f299f7cec646599eabaae21b568420"
            }
          },
          "metadata": {}
        },
        {
          "output_type": "stream",
          "name": "stdout",
          "text": [
            "Y\n",
            "Y\n",
            "Y\n",
            "Y\n",
            "Y\n",
            "Y\n",
            "Y\n",
            "Y\n",
            "Y\n",
            "Y\n",
            "Y\n",
            "Y\n",
            "Y\n",
            "Y\n",
            "Y\n",
            "Y\n",
            "Y\n",
            "Y\n",
            "Y\n",
            "Y\n",
            "Y\n",
            "Y\n",
            "Y\n",
            "Y\n",
            "Y\n",
            "Y\n",
            "Y\n",
            "Y\n",
            "Y\n",
            "Y\n",
            "Y\n",
            "Y\n",
            "Y\n",
            "Y\n",
            "Y\n",
            "Y\n",
            "Y\n",
            "Y\n",
            "Y\n",
            "Y\n",
            "Y\n",
            "Y\n",
            "Y\n",
            "Y\n",
            "Y\n",
            "Y\n",
            "Y\n",
            "Y\n",
            "Y\n",
            "Y\n",
            "Y\n",
            "Y\n",
            "Y\n",
            "Y\n",
            "Y\n",
            "Y\n",
            "Y\n",
            "Y\n",
            "Y\n",
            "Y\n",
            "Y\n",
            "Y\n",
            "Y\n",
            "Y\n",
            "Y\n",
            "Y\n",
            "Y\n",
            "Y\n",
            "Y\n",
            "Y\n",
            "Y\n",
            "Y\n",
            "Y\n",
            "Y\n",
            "Y\n",
            "Y\n",
            "Y\n",
            "Y\n",
            "Y\n",
            "Y\n",
            "Y\n",
            "Y\n",
            "Y\n",
            "Y\n",
            "Y\n",
            "Y\n",
            "Y\n",
            "Y\n",
            "Y\n",
            "Y\n",
            "Y\n",
            "Y\n",
            "Y\n",
            "Y\n",
            "Y\n",
            "Y\n",
            "Y\n",
            "Y\n",
            "Y\n",
            "Y\n",
            "Y\n",
            "Y\n",
            "Y\n",
            "Y\n",
            "Y\n",
            "Y\n",
            "Y\n",
            "Y\n",
            "Y\n",
            "Y\n",
            "Y\n",
            "Y\n",
            "Y\n",
            "Y\n",
            "Y\n",
            "Y\n",
            "Y\n",
            "Y\n",
            "Y\n",
            "Y\n",
            "Y\n",
            "Y\n",
            "Y\n",
            "Y\n",
            "Y\n",
            "Y\n",
            "Y\n",
            "Y\n",
            "Y\n",
            "Y\n",
            "Y\n",
            "Y\n",
            "Y\n",
            "Y\n",
            "Y\n",
            "Y\n",
            "Y\n",
            "Y\n",
            "Y\n",
            "Y\n",
            "Y\n",
            "Y\n",
            "Y\n",
            "Y\n",
            "Y\n",
            "Y\n",
            "Y\n",
            "Y\n",
            "Y\n",
            "Y\n",
            "Y\n",
            "Y\n",
            "Y\n",
            "Y\n",
            "Y\n"
          ]
        },
        {
          "output_type": "display_data",
          "data": {
            "text/plain": [
              "  0%|          | 0/98 [00:00<?, ?it/s]"
            ],
            "application/vnd.jupyter.widget-view+json": {
              "version_major": 2,
              "version_minor": 0,
              "model_id": "ade1e3c1cc9a438b99bda518ba718c94"
            }
          },
          "metadata": {}
        },
        {
          "output_type": "stream",
          "name": "stdout",
          "text": [
            "['Y', 'Y', 'Y', 'Y', 'Y', 'Y', 'Y', 'Y', 'Y', 'Y', 'Y', 'Y', 'Y', 'Y', 'Y', 'Y', 'Y', 'Y', 'Y', 'Y', 'Y', 'Y', 'Y', 'Y', 'Y', 'Y', 'Y', 'Y', 'Y', 'Y', 'Y', 'Y', 'Y', 'Y', 'Y', 'Y', 'Y', 'Y', 'Y', 'Y', 'Y', 'Y', 'Y', 'Y', 'Y', 'Y', 'Y', 'Y', 'Y', 'Y', 'Y', 'Y', 'Y', 'Y', 'Y', 'Y', 'Y', 'Y', 'Y', 'Y', 'Y', 'Y', 'Y', 'Y', 'Y', 'Y', 'Y', 'Y', 'Y', 'Y', 'Y', 'Y', 'Y', 'Y', 'Y', 'Y', 'Y', 'Y', 'Y', 'Y', 'Y', 'Y', 'Y', 'Y', 'Y', 'Y', 'Y', 'Y', 'Y', 'Y', 'Y', 'Y', 'Y', 'Y', 'Y', 'Y', 'Y', 'Y', 'Y', 'Y', 'Y', 'Y', 'Y', 'Y', 'Y', 'Y', 'Y', 'Y', 'Y', 'Y', 'Y', 'Y', 'Y', 'Y', 'Y', 'Y', 'Y', 'Y', 'Y', 'Y', 'Y', 'Y', 'Y', 'Y', 'Y', 'Y', 'Y', 'Y', 'Y', 'Y', 'Y', 'Y', 'Y', 'Y', 'Y', 'Y', 'Y', 'Y', 'Y', 'Y', 'Y', 'Y', 'Y', 'Y', 'Y', 'Y', 'Y', 'Y', 'Y', 'Y', 'Y', 'Y', 'Y', 'Y', 'Y', 'N', 'N', 'N', 'N', 'N', 'N', 'N', 'N', 'N', 'N', 'N', 'N', 'N', 'N', 'N', 'N', 'N', 'N', 'N', 'N', 'N', 'N', 'N', 'N', 'N', 'N', 'N', 'N', 'N', 'N', 'N', 'N', 'N', 'N', 'N', 'N', 'N', 'N', 'N', 'N', 'N', 'N', 'N', 'N', 'N', 'N', 'N', 'N', 'N', 'N', 'N', 'N', 'N', 'N', 'N', 'N', 'N', 'N', 'N', 'N', 'N', 'N', 'N', 'N', 'N', 'N', 'N', 'N', 'N', 'N', 'N', 'N', 'N', 'N', 'N', 'N', 'N', 'N', 'N', 'N', 'N', 'N', 'N', 'N', 'N', 'N', 'N', 'N', 'N', 'N', 'N', 'N', 'N', 'N', 'N', 'N', 'N', 'N']\n"
          ]
        }
      ]
    },
    {
      "cell_type": "code",
      "source": [
        "%matplotlib inline\n",
        "import matplotlib.pyplot as plt\n",
        "plt.figure(figsize=(10, 10))\n",
        "for i in range(4):\n",
        "    plt.subplot(1, 4, i+1)\n",
        "    plt.imshow(X[i], cmap=\"gray\")\n",
        "    plt.axis('off')\n",
        "plt.show()"
      ],
      "metadata": {
        "colab": {
          "base_uri": "https://localhost:8080/",
          "height": 205
        },
        "id": "_VgH5RbPHct6",
        "outputId": "e346b275-0108-4d3f-fb8e-ab783ee0107c"
      },
      "execution_count": null,
      "outputs": [
        {
          "output_type": "display_data",
          "data": {
            "text/plain": [
              "<Figure size 1000x1000 with 4 Axes>"
            ],
            "image/png": "[encoded data removed]"
          },
          "metadata": {}
        }
      ]
    },
    {
      "cell_type": "code",
      "source": [
        "X_train, X_test, y_train, y_test = train_test_split(X, y, test_size=0.33, random_state=42)\n",
        "print (\"Shape of an image in X_train: \", X_train[0].shape)\n",
        "print (\"Shape of an image in X_test: \", X_test[0].shape)"
      ],
      "metadata": {
        "colab": {
          "base_uri": "https://localhost:8080/"
        },
        "id": "U53tHWr2Hyuk",
        "outputId": "53f15679-e8be-4c9e-8f8b-b43a2ce516d4"
      },
      "execution_count": null,
      "outputs": [
        {
          "output_type": "stream",
          "name": "stdout",
          "text": [
            "Shape of an image in X_train:  (224, 224, 3)\n",
            "Shape of an image in X_test:  (224, 224, 3)\n"
          ]
        }
      ]
    },
    {
      "cell_type": "code",
      "source": [
        "le = preprocessing.LabelEncoder()\n",
        "y_train = le.fit_transform(y_train)\n",
        "y_test = le.fit_transform(y_test)\n",
        "y_train = tf.keras.utils.to_categorical(y_train, num_classes=2)\n",
        "y_test = tf.keras.utils.to_categorical(y_test, num_classes=2)\n",
        "y_train = np.array(y_train)\n",
        "X_train = np.array(X_train)\n",
        "y_test = np.array(y_test)\n",
        "X_test = np.array(X_test)"
      ],
      "metadata": {
        "id": "OZy3h6KjIN2e"
      },
      "execution_count": null,
      "outputs": []
    },
    {
      "cell_type": "code",
      "source": [
        "print(\"X_train Shape: \", X_train.shape)\n",
        "print(\"X_test Shape: \", X_test.shape)\n",
        "print(\"y_train Shape: \", y_train.shape)\n",
        "print(\"y_test Shape: \", y_test.shape)"
      ],
      "metadata": {
        "colab": {
          "base_uri": "https://localhost:8080/"
        },
        "id": "t8e93k3NI8GN",
        "outputId": "3e687545-6e58-4b71-a9e4-bc60ee0e8673"
      },
      "execution_count": null,
      "outputs": [
        {
          "output_type": "stream",
          "name": "stdout",
          "text": [
            "X_train Shape:  (169, 224, 224, 3)\n",
            "X_test Shape:  (84, 224, 224, 3)\n",
            "y_train Shape:  (169, 2)\n",
            "y_test Shape:  (84, 2)\n"
          ]
        }
      ]
    },
    {
      "cell_type": "code",
      "source": [
        "from keras.applications import vgg16\n",
        "\n",
        "\n",
        "img_rows, img_cols = 224, 224\n",
        "\n",
        "\n",
        "vgg = vgg16.VGG16(weights = 'imagenet',\n",
        "                 include_top = False,\n",
        "                 input_shape = (img_rows, img_cols, 3))\n",
        "\n",
        "# Here we freeze the last 4 layers\n",
        "# Layers are set to trainable as True by default\n",
        "for layer in vgg.layers:\n",
        "    layer.trainable = False\n",
        "\n",
        "# Let's print our layers\n",
        "for (i,layer) in enumerate(vgg.layers):\n",
        "    print(str(i) + \" \"+ layer.__class__.__name__, layer.trainable)"
      ],
      "metadata": {
        "colab": {
          "base_uri": "https://localhost:8080/"
        },
        "id": "HuBTC_N2I9DG",
        "outputId": "ac3f9a8d-3546-4c10-ebd6-fc6e8e30b0d3"
      },
      "execution_count": null,
      "outputs": [
        {
          "output_type": "stream",
          "name": "stdout",
          "text": [
            "Downloading data from https://storage.googleapis.com/tensorflow/keras-applications/vgg16/vgg16_weights_tf_dim_ordering_tf_kernels_notop.h5\n",
            "\u001b[1m58889256/58889256\u001b[0m \u001b[32m━━━━━━━━━━━━━━━━━━━━\u001b[0m\u001b[37m\u001b[0m \u001b[1m4s\u001b[0m 0us/step\n",
            "0 InputLayer False\n",
            "1 Conv2D False\n",
            "2 Conv2D False\n",
            "3 MaxPooling2D False\n",
            "4 Conv2D False\n",
            "5 Conv2D False\n",
            "6 MaxPooling2D False\n",
            "7 Conv2D False\n",
            "8 Conv2D False\n",
            "9 Conv2D False\n",
            "10 MaxPooling2D False\n",
            "11 Conv2D False\n",
            "12 Conv2D False\n",
            "13 Conv2D False\n",
            "14 MaxPooling2D False\n",
            "15 Conv2D False\n",
            "16 Conv2D False\n",
            "17 Conv2D False\n",
            "18 MaxPooling2D False\n"
          ]
        }
      ]
    },
    {
      "cell_type": "code",
      "source": [
        "def lw(bottom_model, num_classes):\n",
        "    \"\"\"creates the top or head of the model that will be\n",
        "    placed ontop of the bottom layers\"\"\"\n",
        "\n",
        "    top_model = bottom_model.output\n",
        "    top_model = GlobalAveragePooling2D()(top_model)\n",
        "    top_model = Dense(1024,activation='relu')(top_model)\n",
        "    top_model = Dense(1024,activation='relu')(top_model)\n",
        "    top_model = Dense(512,activation='relu')(top_model)\n",
        "    top_model = Dense(num_classes,activation='softmax')(top_model)\n",
        "    return top_model"
      ],
      "metadata": {
        "id": "c7HFDErVM_ia"
      },
      "execution_count": null,
      "outputs": []
    },
    {
      "cell_type": "code",
      "source": [
        "from keras.models import Sequential\n",
        "from keras.layers import Dense, Dropout, Activation, Flatten, GlobalAveragePooling2D\n",
        "from keras.layers import Conv2D, MaxPooling2D, ZeroPadding2D\n",
        "\n",
        "from keras.models import Model\n",
        "\n",
        "\n",
        "num_classes = 2\n",
        "\n",
        "FC_Head = lw(vgg, num_classes)\n",
        "\n",
        "model = Model(inputs = vgg.input, outputs = FC_Head)\n",
        "\n",
        "print(model.summary())"
      ],
      "metadata": {
        "colab": {
          "base_uri": "https://localhost:8080/",
          "height": 930
        },
        "id": "LBa8-tC0OVXg",
        "outputId": "6197b14d-2ba0-4056-85dc-fcf64e6952e4"
      },
      "execution_count": null,
      "outputs": [
        {
          "output_type": "display_data",
          "data": {
            "text/plain": [
              "\u001b[1mModel: \"functional\"\u001b[0m\n"
            ],
            "text/html": [
              "<pre style=\"white-space:pre;overflow-x:auto;line-height:normal;font-family:Menlo,'DejaVu Sans Mono',consolas,'Courier New',monospace\"><span style=\"font-weight: bold\">Model: \"functional\"</span>\n",
              "</pre>\n"
            ]
          },
          "metadata": {}
        },
        {
          "output_type": "display_data",
          "data": {
            "text/plain": [
              "┏━━━━━━━━━━━━━━━━━━━━━━━━━━━━━━━━━━━━━━┳━━━━━━━━━━━━━━━━━━━━━━━━━━━━━┳━━━━━━━━━━━━━━━━━┓\n",
              "┃\u001b[1m \u001b[0m\u001b[1mLayer (type)                        \u001b[0m\u001b[1m \u001b[0m┃\u001b[1m \u001b[0m\u001b[1mOutput Shape               \u001b[0m\u001b[1m \u001b[0m┃\u001b[1m \u001b[0m\u001b[1m        Param #\u001b[0m\u001b[1m \u001b[0m┃\n",
              "┡━━━━━━━━━━━━━━━━━━━━━━━━━━━━━━━━━━━━━━╇━━━━━━━━━━━━━━━━━━━━━━━━━━━━━╇━━━━━━━━━━━━━━━━━┩\n",
              "│ input_layer (\u001b[38;5;33mInputLayer\u001b[0m)             │ (\u001b[38;5;45mNone\u001b[0m, \u001b[38;5;34m224\u001b[0m, \u001b[38;5;34m224\u001b[0m, \u001b[38;5;34m3\u001b[0m)         │               \u001b[38;5;34m0\u001b[0m │\n",
              "├──────────────────────────────────────┼─────────────────────────────┼─────────────────┤\n",
              "│ block1_conv1 (\u001b[38;5;33mConv2D\u001b[0m)                │ (\u001b[38;5;45mNone\u001b[0m, \u001b[38;5;34m224\u001b[0m, \u001b[38;5;34m224\u001b[0m, \u001b[38;5;34m64\u001b[0m)        │           \u001b[38;5;34m1,792\u001b[0m │\n",
              "├──────────────────────────────────────┼─────────────────────────────┼─────────────────┤\n",
              "│ block1_conv2 (\u001b[38;5;33mConv2D\u001b[0m)                │ (\u001b[38;5;45mNone\u001b[0m, \u001b[38;5;34m224\u001b[0m, \u001b[38;5;34m224\u001b[0m, \u001b[38;5;34m64\u001b[0m)        │          \u001b[38;5;34m36,928\u001b[0m │\n",
              "├──────────────────────────────────────┼─────────────────────────────┼─────────────────┤\n",
              "│ block1_pool (\u001b[38;5;33mMaxPooling2D\u001b[0m)           │ (\u001b[38;5;45mNone\u001b[0m, \u001b[38;5;34m112\u001b[0m, \u001b[38;5;34m112\u001b[0m, \u001b[38;5;34m64\u001b[0m)        │               \u001b[38;5;34m0\u001b[0m │\n",
              "├──────────────────────────────────────┼─────────────────────────────┼─────────────────┤\n",
              "│ block2_conv1 (\u001b[38;5;33mConv2D\u001b[0m)                │ (\u001b[38;5;45mNone\u001b[0m, \u001b[38;5;34m112\u001b[0m, \u001b[38;5;34m112\u001b[0m, \u001b[38;5;34m128\u001b[0m)       │          \u001b[38;5;34m73,856\u001b[0m │\n",
              "├──────────────────────────────────────┼─────────────────────────────┼─────────────────┤\n",
              "│ block2_conv2 (\u001b[38;5;33mConv2D\u001b[0m)                │ (\u001b[38;5;45mNone\u001b[0m, \u001b[38;5;34m112\u001b[0m, \u001b[38;5;34m112\u001b[0m, \u001b[38;5;34m128\u001b[0m)       │         \u001b[38;5;34m147,584\u001b[0m │\n",
              "├──────────────────────────────────────┼─────────────────────────────┼─────────────────┤\n",
              "│ block2_pool (\u001b[38;5;33mMaxPooling2D\u001b[0m)           │ (\u001b[38;5;45mNone\u001b[0m, \u001b[38;5;34m56\u001b[0m, \u001b[38;5;34m56\u001b[0m, \u001b[38;5;34m128\u001b[0m)         │               \u001b[38;5;34m0\u001b[0m │\n",
              "├──────────────────────────────────────┼─────────────────────────────┼─────────────────┤\n",
              "│ block3_conv1 (\u001b[38;5;33mConv2D\u001b[0m)                │ (\u001b[38;5;45mNone\u001b[0m, \u001b[38;5;34m56\u001b[0m, \u001b[38;5;34m56\u001b[0m, \u001b[38;5;34m256\u001b[0m)         │         \u001b[38;5;34m295,168\u001b[0m │\n",
              "├──────────────────────────────────────┼─────────────────────────────┼─────────────────┤\n",
              "│ block3_conv2 (\u001b[38;5;33mConv2D\u001b[0m)                │ (\u001b[38;5;45mNone\u001b[0m, \u001b[38;5;34m56\u001b[0m, \u001b[38;5;34m56\u001b[0m, \u001b[38;5;34m256\u001b[0m)         │         \u001b[38;5;34m590,080\u001b[0m │\n",
              "├──────────────────────────────────────┼─────────────────────────────┼─────────────────┤\n",
              "│ block3_conv3 (\u001b[38;5;33mConv2D\u001b[0m)                │ (\u001b[38;5;45mNone\u001b[0m, \u001b[38;5;34m56\u001b[0m, \u001b[38;5;34m56\u001b[0m, \u001b[38;5;34m256\u001b[0m)         │         \u001b[38;5;34m590,080\u001b[0m │\n",
              "├──────────────────────────────────────┼─────────────────────────────┼─────────────────┤\n",
              "│ block3_pool (\u001b[38;5;33mMaxPooling2D\u001b[0m)           │ (\u001b[38;5;45mNone\u001b[0m, \u001b[38;5;34m28\u001b[0m, \u001b[38;5;34m28\u001b[0m, \u001b[38;5;34m256\u001b[0m)         │               \u001b[38;5;34m0\u001b[0m │\n",
              "├──────────────────────────────────────┼─────────────────────────────┼─────────────────┤\n",
              "│ block4_conv1 (\u001b[38;5;33mConv2D\u001b[0m)                │ (\u001b[38;5;45mNone\u001b[0m, \u001b[38;5;34m28\u001b[0m, \u001b[38;5;34m28\u001b[0m, \u001b[38;5;34m512\u001b[0m)         │       \u001b[38;5;34m1,180,160\u001b[0m │\n",
              "├──────────────────────────────────────┼─────────────────────────────┼─────────────────┤\n",
              "│ block4_conv2 (\u001b[38;5;33mConv2D\u001b[0m)                │ (\u001b[38;5;45mNone\u001b[0m, \u001b[38;5;34m28\u001b[0m, \u001b[38;5;34m28\u001b[0m, \u001b[38;5;34m512\u001b[0m)         │       \u001b[38;5;34m2,359,808\u001b[0m │\n",
              "├──────────────────────────────────────┼─────────────────────────────┼─────────────────┤\n",
              "│ block4_conv3 (\u001b[38;5;33mConv2D\u001b[0m)                │ (\u001b[38;5;45mNone\u001b[0m, \u001b[38;5;34m28\u001b[0m, \u001b[38;5;34m28\u001b[0m, \u001b[38;5;34m512\u001b[0m)         │       \u001b[38;5;34m2,359,808\u001b[0m │\n",
              "├──────────────────────────────────────┼─────────────────────────────┼─────────────────┤\n",
              "│ block4_pool (\u001b[38;5;33mMaxPooling2D\u001b[0m)           │ (\u001b[38;5;45mNone\u001b[0m, \u001b[38;5;34m14\u001b[0m, \u001b[38;5;34m14\u001b[0m, \u001b[38;5;34m512\u001b[0m)         │               \u001b[38;5;34m0\u001b[0m │\n",
              "├──────────────────────────────────────┼─────────────────────────────┼─────────────────┤\n",
              "│ block5_conv1 (\u001b[38;5;33mConv2D\u001b[0m)                │ (\u001b[38;5;45mNone\u001b[0m, \u001b[38;5;34m14\u001b[0m, \u001b[38;5;34m14\u001b[0m, \u001b[38;5;34m512\u001b[0m)         │       \u001b[38;5;34m2,359,808\u001b[0m │\n",
              "├──────────────────────────────────────┼─────────────────────────────┼─────────────────┤\n",
              "│ block5_conv2 (\u001b[38;5;33mConv2D\u001b[0m)                │ (\u001b[38;5;45mNone\u001b[0m, \u001b[38;5;34m14\u001b[0m, \u001b[38;5;34m14\u001b[0m, \u001b[38;5;34m512\u001b[0m)         │       \u001b[38;5;34m2,359,808\u001b[0m │\n",
              "├──────────────────────────────────────┼─────────────────────────────┼─────────────────┤\n",
              "│ block5_conv3 (\u001b[38;5;33mConv2D\u001b[0m)                │ (\u001b[38;5;45mNone\u001b[0m, \u001b[38;5;34m14\u001b[0m, \u001b[38;5;34m14\u001b[0m, \u001b[38;5;34m512\u001b[0m)         │       \u001b[38;5;34m2,359,808\u001b[0m │\n",
              "├──────────────────────────────────────┼─────────────────────────────┼─────────────────┤\n",
              "│ block5_pool (\u001b[38;5;33mMaxPooling2D\u001b[0m)           │ (\u001b[38;5;45mNone\u001b[0m, \u001b[38;5;34m7\u001b[0m, \u001b[38;5;34m7\u001b[0m, \u001b[38;5;34m512\u001b[0m)           │               \u001b[38;5;34m0\u001b[0m │\n",
              "├──────────────────────────────────────┼─────────────────────────────┼─────────────────┤\n",
              "│ global_average_pooling2d             │ (\u001b[38;5;45mNone\u001b[0m, \u001b[38;5;34m512\u001b[0m)                 │               \u001b[38;5;34m0\u001b[0m │\n",
              "│ (\u001b[38;5;33mGlobalAveragePooling2D\u001b[0m)             │                             │                 │\n",
              "├──────────────────────────────────────┼─────────────────────────────┼─────────────────┤\n",
              "│ dense (\u001b[38;5;33mDense\u001b[0m)                        │ (\u001b[38;5;45mNone\u001b[0m, \u001b[38;5;34m1024\u001b[0m)                │         \u001b[38;5;34m525,312\u001b[0m │\n",
              "├──────────────────────────────────────┼─────────────────────────────┼─────────────────┤\n",
              "│ dense_1 (\u001b[38;5;33mDense\u001b[0m)                      │ (\u001b[38;5;45mNone\u001b[0m, \u001b[38;5;34m1024\u001b[0m)                │       \u001b[38;5;34m1,049,600\u001b[0m │\n",
              "├──────────────────────────────────────┼─────────────────────────────┼─────────────────┤\n",
              "│ dense_2 (\u001b[38;5;33mDense\u001b[0m)                      │ (\u001b[38;5;45mNone\u001b[0m, \u001b[38;5;34m512\u001b[0m)                 │         \u001b[38;5;34m524,800\u001b[0m │\n",
              "├──────────────────────────────────────┼─────────────────────────────┼─────────────────┤\n",
              "│ dense_3 (\u001b[38;5;33mDense\u001b[0m)                      │ (\u001b[38;5;45mNone\u001b[0m, \u001b[38;5;34m2\u001b[0m)                   │           \u001b[38;5;34m1,026\u001b[0m │\n",
              "└──────────────────────────────────────┴─────────────────────────────┴─────────────────┘\n"
            ],
            "text/html": [
              "<pre style=\"white-space:pre;overflow-x:auto;line-height:normal;font-family:Menlo,'DejaVu Sans Mono',consolas,'Courier New',monospace\">┏━━━━━━━━━━━━━━━━━━━━━━━━━━━━━━━━━━━━━━┳━━━━━━━━━━━━━━━━━━━━━━━━━━━━━┳━━━━━━━━━━━━━━━━━┓\n",
              "┃<span style=\"font-weight: bold\"> Layer (type)                         </span>┃<span style=\"font-weight: bold\"> Output Shape                </span>┃<span style=\"font-weight: bold\">         Param # </span>┃\n",
              "┡━━━━━━━━━━━━━━━━━━━━━━━━━━━━━━━━━━━━━━╇━━━━━━━━━━━━━━━━━━━━━━━━━━━━━╇━━━━━━━━━━━━━━━━━┩\n",
              "│ input_layer (<span style=\"color: #0087ff; text-decoration-color: #0087ff\">InputLayer</span>)             │ (<span style=\"color: #00d7ff; text-decoration-color: #00d7ff\">None</span>, <span style=\"color: #00af00; text-decoration-color: #00af00\">224</span>, <span style=\"color: #00af00; text-decoration-color: #00af00\">224</span>, <span style=\"color: #00af00; text-decoration-color: #00af00\">3</span>)         │               <span style=\"color: #00af00; text-decoration-color: #00af00\">0</span> │\n",
              "├──────────────────────────────────────┼─────────────────────────────┼─────────────────┤\n",
              "│ block1_conv1 (<span style=\"color: #0087ff; text-decoration-color: #0087ff\">Conv2D</span>)                │ (<span style=\"color: #00d7ff; text-decoration-color: #00d7ff\">None</span>, <span style=\"color: #00af00; text-decoration-color: #00af00\">224</span>, <span style=\"color: #00af00; text-decoration-color: #00af00\">224</span>, <span style=\"color: #00af00; text-decoration-color: #00af00\">64</span>)        │           <span style=\"color: #00af00; text-decoration-color: #00af00\">1,792</span> │\n",
              "├──────────────────────────────────────┼─────────────────────────────┼─────────────────┤\n",
              "│ block1_conv2 (<span style=\"color: #0087ff; text-decoration-color: #0087ff\">Conv2D</span>)                │ (<span style=\"color: #00d7ff; text-decoration-color: #00d7ff\">None</span>, <span style=\"color: #00af00; text-decoration-color: #00af00\">224</span>, <span style=\"color: #00af00; text-decoration-color: #00af00\">224</span>, <span style=\"color: #00af00; text-decoration-color: #00af00\">64</span>)        │          <span style=\"color: #00af00; text-decoration-color: #00af00\">36,928</span> │\n",
              "├──────────────────────────────────────┼─────────────────────────────┼─────────────────┤\n",
              "│ block1_pool (<span style=\"color: #0087ff; text-decoration-color: #0087ff\">MaxPooling2D</span>)           │ (<span style=\"color: #00d7ff; text-decoration-color: #00d7ff\">None</span>, <span style=\"color: #00af00; text-decoration-color: #00af00\">112</span>, <span style=\"color: #00af00; text-decoration-color: #00af00\">112</span>, <span style=\"color: #00af00; text-decoration-color: #00af00\">64</span>)        │               <span style=\"color: #00af00; text-decoration-color: #00af00\">0</span> │\n",
              "├──────────────────────────────────────┼─────────────────────────────┼─────────────────┤\n",
              "│ block2_conv1 (<span style=\"color: #0087ff; text-decoration-color: #0087ff\">Conv2D</span>)                │ (<span style=\"color: #00d7ff; text-decoration-color: #00d7ff\">None</span>, <span style=\"color: #00af00; text-decoration-color: #00af00\">112</span>, <span style=\"color: #00af00; text-decoration-color: #00af00\">112</span>, <span style=\"color: #00af00; text-decoration-color: #00af00\">128</span>)       │          <span style=\"color: #00af00; text-decoration-color: #00af00\">73,856</span> │\n",
              "├──────────────────────────────────────┼─────────────────────────────┼─────────────────┤\n",
              "│ block2_conv2 (<span style=\"color: #0087ff; text-decoration-color: #0087ff\">Conv2D</span>)                │ (<span style=\"color: #00d7ff; text-decoration-color: #00d7ff\">None</span>, <span style=\"color: #00af00; text-decoration-color: #00af00\">112</span>, <span style=\"color: #00af00; text-decoration-color: #00af00\">112</span>, <span style=\"color: #00af00; text-decoration-color: #00af00\">128</span>)       │         <span style=\"color: #00af00; text-decoration-color: #00af00\">147,584</span> │\n",
              "├──────────────────────────────────────┼─────────────────────────────┼─────────────────┤\n",
              "│ block2_pool (<span style=\"color: #0087ff; text-decoration-color: #0087ff\">MaxPooling2D</span>)           │ (<span style=\"color: #00d7ff; text-decoration-color: #00d7ff\">None</span>, <span style=\"color: #00af00; text-decoration-color: #00af00\">56</span>, <span style=\"color: #00af00; text-decoration-color: #00af00\">56</span>, <span style=\"color: #00af00; text-decoration-color: #00af00\">128</span>)         │               <span style=\"color: #00af00; text-decoration-color: #00af00\">0</span> │\n",
              "├──────────────────────────────────────┼─────────────────────────────┼─────────────────┤\n",
              "│ block3_conv1 (<span style=\"color: #0087ff; text-decoration-color: #0087ff\">Conv2D</span>)                │ (<span style=\"color: #00d7ff; text-decoration-color: #00d7ff\">None</span>, <span style=\"color: #00af00; text-decoration-color: #00af00\">56</span>, <span style=\"color: #00af00; text-decoration-color: #00af00\">56</span>, <span style=\"color: #00af00; text-decoration-color: #00af00\">256</span>)         │         <span style=\"color: #00af00; text-decoration-color: #00af00\">295,168</span> │\n",
              "├──────────────────────────────────────┼─────────────────────────────┼─────────────────┤\n",
              "│ block3_conv2 (<span style=\"color: #0087ff; text-decoration-color: #0087ff\">Conv2D</span>)                │ (<span style=\"color: #00d7ff; text-decoration-color: #00d7ff\">None</span>, <span style=\"color: #00af00; text-decoration-color: #00af00\">56</span>, <span style=\"color: #00af00; text-decoration-color: #00af00\">56</span>, <span style=\"color: #00af00; text-decoration-color: #00af00\">256</span>)         │         <span style=\"color: #00af00; text-decoration-color: #00af00\">590,080</span> │\n",
              "├──────────────────────────────────────┼─────────────────────────────┼─────────────────┤\n",
              "│ block3_conv3 (<span style=\"color: #0087ff; text-decoration-color: #0087ff\">Conv2D</span>)                │ (<span style=\"color: #00d7ff; text-decoration-color: #00d7ff\">None</span>, <span style=\"color: #00af00; text-decoration-color: #00af00\">56</span>, <span style=\"color: #00af00; text-decoration-color: #00af00\">56</span>, <span style=\"color: #00af00; text-decoration-color: #00af00\">256</span>)         │         <span style=\"color: #00af00; text-decoration-color: #00af00\">590,080</span> │\n",
              "├──────────────────────────────────────┼─────────────────────────────┼─────────────────┤\n",
              "│ block3_pool (<span style=\"color: #0087ff; text-decoration-color: #0087ff\">MaxPooling2D</span>)           │ (<span style=\"color: #00d7ff; text-decoration-color: #00d7ff\">None</span>, <span style=\"color: #00af00; text-decoration-color: #00af00\">28</span>, <span style=\"color: #00af00; text-decoration-color: #00af00\">28</span>, <span style=\"color: #00af00; text-decoration-color: #00af00\">256</span>)         │               <span style=\"color: #00af00; text-decoration-color: #00af00\">0</span> │\n",
              "├──────────────────────────────────────┼─────────────────────────────┼─────────────────┤\n",
              "│ block4_conv1 (<span style=\"color: #0087ff; text-decoration-color: #0087ff\">Conv2D</span>)                │ (<span style=\"color: #00d7ff; text-decoration-color: #00d7ff\">None</span>, <span style=\"color: #00af00; text-decoration-color: #00af00\">28</span>, <span style=\"color: #00af00; text-decoration-color: #00af00\">28</span>, <span style=\"color: #00af00; text-decoration-color: #00af00\">512</span>)         │       <span style=\"color: #00af00; text-decoration-color: #00af00\">1,180,160</span> │\n",
              "├──────────────────────────────────────┼─────────────────────────────┼─────────────────┤\n",
              "│ block4_conv2 (<span style=\"color: #0087ff; text-decoration-color: #0087ff\">Conv2D</span>)                │ (<span style=\"color: #00d7ff; text-decoration-color: #00d7ff\">None</span>, <span style=\"color: #00af00; text-decoration-color: #00af00\">28</span>, <span style=\"color: #00af00; text-decoration-color: #00af00\">28</span>, <span style=\"color: #00af00; text-decoration-color: #00af00\">512</span>)         │       <span style=\"color: #00af00; text-decoration-color: #00af00\">2,359,808</span> │\n",
              "├──────────────────────────────────────┼─────────────────────────────┼─────────────────┤\n",
              "│ block4_conv3 (<span style=\"color: #0087ff; text-decoration-color: #0087ff\">Conv2D</span>)                │ (<span style=\"color: #00d7ff; text-decoration-color: #00d7ff\">None</span>, <span style=\"color: #00af00; text-decoration-color: #00af00\">28</span>, <span style=\"color: #00af00; text-decoration-color: #00af00\">28</span>, <span style=\"color: #00af00; text-decoration-color: #00af00\">512</span>)         │       <span style=\"color: #00af00; text-decoration-color: #00af00\">2,359,808</span> │\n",
              "├──────────────────────────────────────┼─────────────────────────────┼─────────────────┤\n",
              "│ block4_pool (<span style=\"color: #0087ff; text-decoration-color: #0087ff\">MaxPooling2D</span>)           │ (<span style=\"color: #00d7ff; text-decoration-color: #00d7ff\">None</span>, <span style=\"color: #00af00; text-decoration-color: #00af00\">14</span>, <span style=\"color: #00af00; text-decoration-color: #00af00\">14</span>, <span style=\"color: #00af00; text-decoration-color: #00af00\">512</span>)         │               <span style=\"color: #00af00; text-decoration-color: #00af00\">0</span> │\n",
              "├──────────────────────────────────────┼─────────────────────────────┼─────────────────┤\n",
              "│ block5_conv1 (<span style=\"color: #0087ff; text-decoration-color: #0087ff\">Conv2D</span>)                │ (<span style=\"color: #00d7ff; text-decoration-color: #00d7ff\">None</span>, <span style=\"color: #00af00; text-decoration-color: #00af00\">14</span>, <span style=\"color: #00af00; text-decoration-color: #00af00\">14</span>, <span style=\"color: #00af00; text-decoration-color: #00af00\">512</span>)         │       <span style=\"color: #00af00; text-decoration-color: #00af00\">2,359,808</span> │\n",
              "├──────────────────────────────────────┼─────────────────────────────┼─────────────────┤\n",
              "│ block5_conv2 (<span style=\"color: #0087ff; text-decoration-color: #0087ff\">Conv2D</span>)                │ (<span style=\"color: #00d7ff; text-decoration-color: #00d7ff\">None</span>, <span style=\"color: #00af00; text-decoration-color: #00af00\">14</span>, <span style=\"color: #00af00; text-decoration-color: #00af00\">14</span>, <span style=\"color: #00af00; text-decoration-color: #00af00\">512</span>)         │       <span style=\"color: #00af00; text-decoration-color: #00af00\">2,359,808</span> │\n",
              "├──────────────────────────────────────┼─────────────────────────────┼─────────────────┤\n",
              "│ block5_conv3 (<span style=\"color: #0087ff; text-decoration-color: #0087ff\">Conv2D</span>)                │ (<span style=\"color: #00d7ff; text-decoration-color: #00d7ff\">None</span>, <span style=\"color: #00af00; text-decoration-color: #00af00\">14</span>, <span style=\"color: #00af00; text-decoration-color: #00af00\">14</span>, <span style=\"color: #00af00; text-decoration-color: #00af00\">512</span>)         │       <span style=\"color: #00af00; text-decoration-color: #00af00\">2,359,808</span> │\n",
              "├──────────────────────────────────────┼─────────────────────────────┼─────────────────┤\n",
              "│ block5_pool (<span style=\"color: #0087ff; text-decoration-color: #0087ff\">MaxPooling2D</span>)           │ (<span style=\"color: #00d7ff; text-decoration-color: #00d7ff\">None</span>, <span style=\"color: #00af00; text-decoration-color: #00af00\">7</span>, <span style=\"color: #00af00; text-decoration-color: #00af00\">7</span>, <span style=\"color: #00af00; text-decoration-color: #00af00\">512</span>)           │               <span style=\"color: #00af00; text-decoration-color: #00af00\">0</span> │\n",
              "├──────────────────────────────────────┼─────────────────────────────┼─────────────────┤\n",
              "│ global_average_pooling2d             │ (<span style=\"color: #00d7ff; text-decoration-color: #00d7ff\">None</span>, <span style=\"color: #00af00; text-decoration-color: #00af00\">512</span>)                 │               <span style=\"color: #00af00; text-decoration-color: #00af00\">0</span> │\n",
              "│ (<span style=\"color: #0087ff; text-decoration-color: #0087ff\">GlobalAveragePooling2D</span>)             │                             │                 │\n",
              "├──────────────────────────────────────┼─────────────────────────────┼─────────────────┤\n",
              "│ dense (<span style=\"color: #0087ff; text-decoration-color: #0087ff\">Dense</span>)                        │ (<span style=\"color: #00d7ff; text-decoration-color: #00d7ff\">None</span>, <span style=\"color: #00af00; text-decoration-color: #00af00\">1024</span>)                │         <span style=\"color: #00af00; text-decoration-color: #00af00\">525,312</span> │\n",
              "├──────────────────────────────────────┼─────────────────────────────┼─────────────────┤\n",
              "│ dense_1 (<span style=\"color: #0087ff; text-decoration-color: #0087ff\">Dense</span>)                      │ (<span style=\"color: #00d7ff; text-decoration-color: #00d7ff\">None</span>, <span style=\"color: #00af00; text-decoration-color: #00af00\">1024</span>)                │       <span style=\"color: #00af00; text-decoration-color: #00af00\">1,049,600</span> │\n",
              "├──────────────────────────────────────┼─────────────────────────────┼─────────────────┤\n",
              "│ dense_2 (<span style=\"color: #0087ff; text-decoration-color: #0087ff\">Dense</span>)                      │ (<span style=\"color: #00d7ff; text-decoration-color: #00d7ff\">None</span>, <span style=\"color: #00af00; text-decoration-color: #00af00\">512</span>)                 │         <span style=\"color: #00af00; text-decoration-color: #00af00\">524,800</span> │\n",
              "├──────────────────────────────────────┼─────────────────────────────┼─────────────────┤\n",
              "│ dense_3 (<span style=\"color: #0087ff; text-decoration-color: #0087ff\">Dense</span>)                      │ (<span style=\"color: #00d7ff; text-decoration-color: #00d7ff\">None</span>, <span style=\"color: #00af00; text-decoration-color: #00af00\">2</span>)                   │           <span style=\"color: #00af00; text-decoration-color: #00af00\">1,026</span> │\n",
              "└──────────────────────────────────────┴─────────────────────────────┴─────────────────┘\n",
              "</pre>\n"
            ]
          },
          "metadata": {}
        },
        {
          "output_type": "display_data",
          "data": {
            "text/plain": [
              "\u001b[1m Total params: \u001b[0m\u001b[38;5;34m16,815,426\u001b[0m (64.15 MB)\n"
            ],
            "text/html": [
              "<pre style=\"white-space:pre;overflow-x:auto;line-height:normal;font-family:Menlo,'DejaVu Sans Mono',consolas,'Courier New',monospace\"><span style=\"font-weight: bold\"> Total params: </span><span style=\"color: #00af00; text-decoration-color: #00af00\">16,815,426</span> (64.15 MB)\n",
              "</pre>\n"
            ]
          },
          "metadata": {}
        },
        {
          "output_type": "display_data",
          "data": {
            "text/plain": [
              "\u001b[1m Trainable params: \u001b[0m\u001b[38;5;34m2,100,738\u001b[0m (8.01 MB)\n"
            ],
            "text/html": [
              "<pre style=\"white-space:pre;overflow-x:auto;line-height:normal;font-family:Menlo,'DejaVu Sans Mono',consolas,'Courier New',monospace\"><span style=\"font-weight: bold\"> Trainable params: </span><span style=\"color: #00af00; text-decoration-color: #00af00\">2,100,738</span> (8.01 MB)\n",
              "</pre>\n"
            ]
          },
          "metadata": {}
        },
        {
          "output_type": "display_data",
          "data": {
            "text/plain": [
              "\u001b[1m Non-trainable params: \u001b[0m\u001b[38;5;34m14,714,688\u001b[0m (56.13 MB)\n"
            ],
            "text/html": [
              "<pre style=\"white-space:pre;overflow-x:auto;line-height:normal;font-family:Menlo,'DejaVu Sans Mono',consolas,'Courier New',monospace\"><span style=\"font-weight: bold\"> Non-trainable params: </span><span style=\"color: #00af00; text-decoration-color: #00af00\">14,714,688</span> (56.13 MB)\n",
              "</pre>\n"
            ]
          },
          "metadata": {}
        },
        {
          "output_type": "stream",
          "name": "stdout",
          "text": [
            "None\n"
          ]
        }
      ]
    },
    {
      "cell_type": "code",
      "source": [
        "from tensorflow.keras.models import Model\n",
        "model.compile(optimizer='adam', loss = 'categorical_crossentropy',metrics = ['accuracy'])"
      ],
      "metadata": {
        "id": "Z03D7hlJOuCr"
      },
      "execution_count": null,
      "outputs": []
    },
    {
      "cell_type": "code",
      "source": [
        "history = model.fit(X_train,y_train,\n",
        "                    epochs=5,\n",
        "                    validation_data=(X_test,y_test),\n",
        "                    verbose = 1,\n",
        "                    initial_epoch=0)"
      ],
      "metadata": {
        "colab": {
          "base_uri": "https://localhost:8080/"
        },
        "id": "6HkyWcgPPiH0",
        "outputId": "3b81a08d-5618-4523-d182-f8c73a147d57"
      },
      "execution_count": null,
      "outputs": [
        {
          "output_type": "stream",
          "name": "stdout",
          "text": [
            "Epoch 1/5\n",
            "\u001b[1m6/6\u001b[0m \u001b[32m━━━━━━━━━━━━━━━━━━━━\u001b[0m\u001b[37m\u001b[0m \u001b[1m32s\u001b[0m 3s/step - accuracy: 0.5675 - loss: 3.6616 - val_accuracy: 0.7262 - val_loss: 0.5274\n",
            "Epoch 2/5\n",
            "\u001b[1m6/6\u001b[0m \u001b[32m━━━━━━━━━━━━━━━━━━━━\u001b[0m\u001b[37m\u001b[0m \u001b[1m13s\u001b[0m 273ms/step - accuracy: 0.7754 - loss: 0.5398 - val_accuracy: 0.6190 - val_loss: 0.8361\n",
            "Epoch 3/5\n",
            "\u001b[1m6/6\u001b[0m \u001b[32m━━━━━━━━━━━━━━━━━━━━\u001b[0m\u001b[37m\u001b[0m \u001b[1m1s\u001b[0m 237ms/step - accuracy: 0.7391 - loss: 0.5230 - val_accuracy: 0.8571 - val_loss: 0.5348\n",
            "Epoch 4/5\n",
            "\u001b[1m6/6\u001b[0m \u001b[32m━━━━━━━━━━━━━━━━━━━━\u001b[0m\u001b[37m\u001b[0m \u001b[1m2s\u001b[0m 276ms/step - accuracy: 0.9129 - loss: 0.1697 - val_accuracy: 0.8810 - val_loss: 0.3843\n",
            "Epoch 5/5\n",
            "\u001b[1m6/6\u001b[0m \u001b[32m━━━━━━━━━━━━━━━━━━━━\u001b[0m\u001b[37m\u001b[0m \u001b[1m1s\u001b[0m 244ms/step - accuracy: 0.9577 - loss: 0.1202 - val_accuracy: 0.9405 - val_loss: 0.2795\n"
          ]
        }
      ]
    },
    {
      "cell_type": "code",
      "source": [
        "%matplotlib inline\n",
        "acc = history.history['accuracy']\n",
        "val_acc = history.history['val_accuracy']\n",
        "loss = history.history['loss']\n",
        "val_loss = history.history['val_loss']\n",
        "\n",
        "epochs = range(len(acc))\n",
        "\n",
        "plt.plot(epochs, acc, 'r', label='Training accuracy')\n",
        "plt.plot(epochs, val_acc, 'b', label='Validation accuracy')\n",
        "plt.title('Training and validation accuracy')\n",
        "plt.legend(loc=0)\n",
        "plt.figure()\n",
        "\n",
        "plt.show()"
      ],
      "metadata": {
        "colab": {
          "base_uri": "https://localhost:8080/",
          "height": 469
        },
        "id": "LmfKeW3qPsSx",
        "outputId": "bc9c9a12-c131-4a27-db71-a2f7ce4508c8"
      },
      "execution_count": null,
      "outputs": [
        {
          "output_type": "display_data",
          "data": {
            "text/plain": [
              "<Figure size 640x480 with 1 Axes>"
            ],
            "image/png": "[encoded data removed]"
          },
          "metadata": {}
        },
        {
          "output_type": "display_data",
          "data": {
            "text/plain": [
              "<Figure size 640x480 with 0 Axes>"
            ]
          },
          "metadata": {}
        }
      ]
    },
    {
      "cell_type": "code",
      "source": [],
      "metadata": {
        "id": "GcsJ7oanQN1S"
      },
      "execution_count": null,
      "outputs": []
    }
  ]
}